{
 "cells": [
  {
   "cell_type": "code",
   "execution_count": 136,
   "id": "ca26464d-b569-4738-8df6-73a9e071c149",
   "metadata": {
    "tags": []
   },
   "outputs": [],
   "source": [
    "#dependencies\n",
    "import pandas as pd"
   ]
  },
  {
   "cell_type": "code",
   "execution_count": 151,
   "id": "b983ffc7-ff50-41ac-ab65-281acfc2f1f5",
   "metadata": {
    "tags": []
   },
   "outputs": [],
   "source": [
    "def find_abuse_words(sentence, abuse_words):\n",
    "    \"\"\"\n",
    "    this function counts the occurence of swear word in given sentence. \n",
    "    :param sentence: sentence in column \"tweet\" dataframe\n",
    "    :param abuse_words: list of swear words. \n",
    "    \n",
    "    :return: number of swear word occurence in each sentence\n",
    "    \"\"\"\n",
    "    sentence = sentence.split(' ')\n",
    "    count = 0\n",
    "    for w in abuse_words:\n",
    "        if w in sentence:\n",
    "            count += 1\n",
    "    return count\n",
    "\n",
    "def find_asterisk(sentence):\n",
    "    \"\"\"\n",
    "    this function indicate the presence of asterisks in a sentence. \n",
    "    :param sentence: sentence in column \"tweet\" dataframe\n",
    "    \n",
    "    :return: binary number\n",
    "    \"\"\"\n",
    "    return 1 if '*' in sentence else 0\n"
   ]
  },
  {
   "cell_type": "code",
   "execution_count": 152,
   "id": "57f0df02-b072-4e94-b349-91182ab15103",
   "metadata": {
    "tags": []
   },
   "outputs": [],
   "source": [
    "## load the dataframes ##\n",
    "df_abuse = pd.read_csv(\"../keyword/abusive_lexicon.csv\")\n",
    "df_train = pd.read_csv('../dataset/train.csv')\n",
    "df_test = pd.read_csv('../dataset/test.csv')\n",
    "abuse_words = list(set(df_abuse['word'].tolist()))"
   ]
  },
  {
   "cell_type": "code",
   "execution_count": 153,
   "id": "9ae63e18-315b-4650-ac2e-d4fa6dacd63c",
   "metadata": {},
   "outputs": [
    {
     "data": {
      "text/html": [
       "<div>\n",
       "<style scoped>\n",
       "    .dataframe tbody tr th:only-of-type {\n",
       "        vertical-align: middle;\n",
       "    }\n",
       "\n",
       "    .dataframe tbody tr th {\n",
       "        vertical-align: top;\n",
       "    }\n",
       "\n",
       "    .dataframe thead th {\n",
       "        text-align: right;\n",
       "    }\n",
       "</style>\n",
       "<table border=\"1\" class=\"dataframe\">\n",
       "  <thead>\n",
       "    <tr style=\"text-align: right;\">\n",
       "      <th></th>\n",
       "      <th>tweet</th>\n",
       "      <th>label</th>\n",
       "      <th>sw_count</th>\n",
       "      <th>len_tweet</th>\n",
       "      <th>asterisk</th>\n",
       "    </tr>\n",
       "  </thead>\n",
       "  <tbody>\n",
       "    <tr>\n",
       "      <th>0</th>\n",
       "      <td>she should ask a few native americans what th...</td>\n",
       "      <td>NOTABU</td>\n",
       "      <td>0</td>\n",
       "      <td>66</td>\n",
       "      <td>0</td>\n",
       "    </tr>\n",
       "    <tr>\n",
       "      <th>1</th>\n",
       "      <td>go home you’re drunk!! maga trump202 🇺🇸 url</td>\n",
       "      <td>NOTABU</td>\n",
       "      <td>0</td>\n",
       "      <td>44</td>\n",
       "      <td>0</td>\n",
       "    </tr>\n",
       "    <tr>\n",
       "      <th>2</th>\n",
       "      <td>amazon is investigating chinese employees who ...</td>\n",
       "      <td>NOTABU</td>\n",
       "      <td>0</td>\n",
       "      <td>176</td>\n",
       "      <td>0</td>\n",
       "    </tr>\n",
       "    <tr>\n",
       "      <th>3</th>\n",
       "      <td>someone should'vetaken this piece of shit to ...</td>\n",
       "      <td>NOTABU</td>\n",
       "      <td>1</td>\n",
       "      <td>57</td>\n",
       "      <td>0</td>\n",
       "    </tr>\n",
       "    <tr>\n",
       "      <th>4</th>\n",
       "      <td>obama wanted liberals amp illegals to move in...</td>\n",
       "      <td>NOTABU</td>\n",
       "      <td>0</td>\n",
       "      <td>59</td>\n",
       "      <td>0</td>\n",
       "    </tr>\n",
       "  </tbody>\n",
       "</table>\n",
       "</div>"
      ],
      "text/plain": [
       "                                               tweet   label  sw_count  \\\n",
       "0   she should ask a few native americans what th...  NOTABU         0   \n",
       "1        go home you’re drunk!! maga trump202 🇺🇸 url  NOTABU         0   \n",
       "2  amazon is investigating chinese employees who ...  NOTABU         0   \n",
       "3   someone should'vetaken this piece of shit to ...  NOTABU         1   \n",
       "4   obama wanted liberals amp illegals to move in...  NOTABU         0   \n",
       "\n",
       "   len_tweet  asterisk  \n",
       "0         66         0  \n",
       "1         44         0  \n",
       "2        176         0  \n",
       "3         57         0  \n",
       "4         59         0  "
      ]
     },
     "execution_count": 153,
     "metadata": {},
     "output_type": "execute_result"
    }
   ],
   "source": [
    "## apply function for train dataset ##\n",
    "df_train['sw_count'] = df_train['tweet'].apply(lambda x: find_abuse_words(x, abuse_words))\n",
    "df_train['len_tweet'] = df_train['tweet'].apply(lambda x: len(x))\n",
    "df_train['asterisk'] = df_train['tweet'].apply(find_asterisk)\n",
    "df_train.to_csv(\"../dataset/train_count_sw.csv\", index=False)\n",
    "df_train.head()"
   ]
  },
  {
   "cell_type": "code",
   "execution_count": 149,
   "id": "6aac5f42-47b2-4799-ad17-325e95ee0418",
   "metadata": {
    "tags": []
   },
   "outputs": [
    {
     "data": {
      "text/html": [
       "<div>\n",
       "<style scoped>\n",
       "    .dataframe tbody tr th:only-of-type {\n",
       "        vertical-align: middle;\n",
       "    }\n",
       "\n",
       "    .dataframe tbody tr th {\n",
       "        vertical-align: top;\n",
       "    }\n",
       "\n",
       "    .dataframe thead th {\n",
       "        text-align: right;\n",
       "    }\n",
       "</style>\n",
       "<table border=\"1\" class=\"dataframe\">\n",
       "  <thead>\n",
       "    <tr style=\"text-align: right;\">\n",
       "      <th></th>\n",
       "      <th>tweet</th>\n",
       "      <th>label</th>\n",
       "      <th>sw_count</th>\n",
       "      <th>len_tweet</th>\n",
       "      <th>asterisk</th>\n",
       "    </tr>\n",
       "  </thead>\n",
       "  <tbody>\n",
       "    <tr>\n",
       "      <th>0</th>\n",
       "      <td>whoisq wherestheserver dumpnike declasfisa dem...</td>\n",
       "      <td>NOTABU</td>\n",
       "      <td>0</td>\n",
       "      <td>222</td>\n",
       "      <td>0</td>\n",
       "    </tr>\n",
       "    <tr>\n",
       "      <th>1</th>\n",
       "      <td>constitutionday is revered by conservatives ha...</td>\n",
       "      <td>NOTABU</td>\n",
       "      <td>1</td>\n",
       "      <td>109</td>\n",
       "      <td>0</td>\n",
       "    </tr>\n",
       "    <tr>\n",
       "      <th>2</th>\n",
       "      <td>foxnews nra maga potus trump ndamendment rnc u...</td>\n",
       "      <td>NOTABU</td>\n",
       "      <td>0</td>\n",
       "      <td>135</td>\n",
       "      <td>0</td>\n",
       "    </tr>\n",
       "    <tr>\n",
       "      <th>3</th>\n",
       "      <td>watching boomer getting the news that she is s...</td>\n",
       "      <td>NOTABU</td>\n",
       "      <td>0</td>\n",
       "      <td>128</td>\n",
       "      <td>0</td>\n",
       "    </tr>\n",
       "    <tr>\n",
       "      <th>4</th>\n",
       "      <td>nopasaran unity demo to oppose the far-right i...</td>\n",
       "      <td>EXP</td>\n",
       "      <td>0</td>\n",
       "      <td>87</td>\n",
       "      <td>0</td>\n",
       "    </tr>\n",
       "  </tbody>\n",
       "</table>\n",
       "</div>"
      ],
      "text/plain": [
       "                                               tweet   label  sw_count  \\\n",
       "0  whoisq wherestheserver dumpnike declasfisa dem...  NOTABU         0   \n",
       "1  constitutionday is revered by conservatives ha...  NOTABU         1   \n",
       "2  foxnews nra maga potus trump ndamendment rnc u...  NOTABU         0   \n",
       "3  watching boomer getting the news that she is s...  NOTABU         0   \n",
       "4  nopasaran unity demo to oppose the far-right i...     EXP         0   \n",
       "\n",
       "   len_tweet  asterisk  \n",
       "0        222         0  \n",
       "1        109         0  \n",
       "2        135         0  \n",
       "3        128         0  \n",
       "4         87         0  "
      ]
     },
     "execution_count": 149,
     "metadata": {},
     "output_type": "execute_result"
    }
   ],
   "source": [
    "## apply function for test dataset ##\n",
    "df_test['sw_count'] = df_test['tweet'].apply(lambda x: find_abuse_words(x, abuse_words))\n",
    "df_test['len_tweet'] = df_test['tweet'].apply(lambda x: len(x))\n",
    "df_test['asterisk'] = df_test['tweet'].apply(find_asterisk)\n",
    "df_test.to_csv(\"../dataset/test_count_sw.csv\", index=False)\n",
    "df_test.head()"
   ]
  },
  {
   "cell_type": "code",
   "execution_count": null,
   "id": "c3e4bfa3-3c28-41c3-bde2-887b57619a47",
   "metadata": {},
   "outputs": [],
   "source": [
    "# df_train_asterisk = df_train[df_train['asterisk']==1]\n",
    "# df_train_asterisk.to_csv('../dataset/train_asterisk.csv', index=False)\n",
    "                             "
   ]
  }
 ],
 "metadata": {
  "kernelspec": {
   "display_name": "thesis",
   "language": "python",
   "name": "thesis"
  },
  "language_info": {
   "codemirror_mode": {
    "name": "ipython",
    "version": 3
   },
   "file_extension": ".py",
   "mimetype": "text/x-python",
   "name": "python",
   "nbconvert_exporter": "python",
   "pygments_lexer": "ipython3",
   "version": "3.9.18"
  }
 },
 "nbformat": 4,
 "nbformat_minor": 5
}
