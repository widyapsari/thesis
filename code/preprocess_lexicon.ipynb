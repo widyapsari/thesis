{
 "cells": [
  {
   "cell_type": "code",
   "execution_count": 1,
   "id": "4209f2f8-d00c-446e-9d0a-d41f5529ddd9",
   "metadata": {
    "tags": []
   },
   "outputs": [],
   "source": [
    "import pandas as pd"
   ]
  },
  {
   "cell_type": "code",
   "execution_count": 23,
   "id": "c02b6710-0fa4-484b-98a1-308e45006710",
   "metadata": {
    "tags": []
   },
   "outputs": [
    {
     "name": "stdout",
     "output_type": "stream",
     "text": [
      "---BASIC STAT OF LEXICON ---\n",
      "word     2989\n",
      "score    2989\n",
      "dtype: int64\n",
      "----------------------------\n"
     ]
    },
    {
     "data": {
      "text/html": [
       "<div>\n",
       "<style scoped>\n",
       "    .dataframe tbody tr th:only-of-type {\n",
       "        vertical-align: middle;\n",
       "    }\n",
       "\n",
       "    .dataframe tbody tr th {\n",
       "        vertical-align: top;\n",
       "    }\n",
       "\n",
       "    .dataframe thead th {\n",
       "        text-align: right;\n",
       "    }\n",
       "</style>\n",
       "<table border=\"1\" class=\"dataframe\">\n",
       "  <thead>\n",
       "    <tr style=\"text-align: right;\">\n",
       "      <th></th>\n",
       "      <th>word</th>\n",
       "      <th>score</th>\n",
       "    </tr>\n",
       "  </thead>\n",
       "  <tbody>\n",
       "    <tr>\n",
       "      <th>0</th>\n",
       "      <td>horrible</td>\n",
       "      <td>3.679601</td>\n",
       "    </tr>\n",
       "    <tr>\n",
       "      <th>1</th>\n",
       "      <td>disgusting</td>\n",
       "      <td>3.493682</td>\n",
       "    </tr>\n",
       "    <tr>\n",
       "      <th>2</th>\n",
       "      <td>moron</td>\n",
       "      <td>3.469677</td>\n",
       "    </tr>\n",
       "    <tr>\n",
       "      <th>3</th>\n",
       "      <td>bastard</td>\n",
       "      <td>3.399238</td>\n",
       "    </tr>\n",
       "    <tr>\n",
       "      <th>4</th>\n",
       "      <td>stupid</td>\n",
       "      <td>3.323882</td>\n",
       "    </tr>\n",
       "  </tbody>\n",
       "</table>\n",
       "</div>"
      ],
      "text/plain": [
       "         word     score\n",
       "0    horrible  3.679601\n",
       "1  disgusting  3.493682\n",
       "2       moron  3.469677\n",
       "3     bastard  3.399238\n",
       "4      stupid  3.323882"
      ]
     },
     "execution_count": 23,
     "metadata": {},
     "output_type": "execute_result"
    }
   ],
   "source": [
    "with open('../keyword/expandedLexicon.txt', 'r') as f:\n",
    "    lines = f.readlines()\n",
    "\n",
    "words = [l.split('_')[0] for l in lines]\n",
    "scores = [float(l.split('\\t')[1].strip('\\n')) for l in lines]\n",
    "df = pd.DataFrame()\n",
    "df['word'] = words\n",
    "df['score'] = scores\n",
    "df = df[df['score']>0]\n",
    "print (\"---BASIC STAT OF LEXICON ---\")\n",
    "print(df.count())\n",
    "print (\"----------------------------\")\n",
    "df.to_csv('abusive_lexicon.csv', index=False)\n",
    "df.head()"
   ]
  },
  {
   "cell_type": "code",
   "execution_count": null,
   "id": "a45c8003-be09-47a7-a4b8-bdff96d0ca38",
   "metadata": {},
   "outputs": [],
   "source": []
  }
 ],
 "metadata": {
  "kernelspec": {
   "display_name": "thesis",
   "language": "python",
   "name": "thesis"
  },
  "language_info": {
   "codemirror_mode": {
    "name": "ipython",
    "version": 3
   },
   "file_extension": ".py",
   "mimetype": "text/x-python",
   "name": "python",
   "nbconvert_exporter": "python",
   "pygments_lexer": "ipython3",
   "version": "3.9.18"
  }
 },
 "nbformat": 4,
 "nbformat_minor": 5
}
