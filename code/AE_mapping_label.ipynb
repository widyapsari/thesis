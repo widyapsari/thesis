{
 "cells": [
  {
   "cell_type": "code",
   "execution_count": 2,
   "id": "5cd2cbea-b099-4940-8250-0d13812bd59c",
   "metadata": {},
   "outputs": [],
   "source": [
    "import pandas as pd"
   ]
  },
  {
   "cell_type": "code",
   "execution_count": null,
   "id": "8c1c0b29-db57-47d1-a790-f6b0ff692e0c",
   "metadata": {
    "tags": []
   },
   "outputs": [],
   "source": [
    "path = \"../dataset/master/abuseval_offenseval_test.tsv\"\n",
    "with open (path, \"r\") as infile:\n",
    "    content = infile.read()\n",
    "print(content)"
   ]
  },
  {
   "cell_type": "code",
   "execution_count": 13,
   "id": "5e566a5b-0729-4b34-bb33-607b16d1b718",
   "metadata": {},
   "outputs": [],
   "source": [
    "def get_df(path):\n",
    "    \"\"\"\n",
    "    This function is to get the data and return in pandas dataframe. \n",
    "    :type path: link to the file location.\n",
    "    :return dataframe: pandas dataframe, type csv\n",
    "    \"\"\"\n",
    "    dataframe = pd.read_csv(path, sep=\"\\t\")\n",
    "    return dataframe \n",
    "\n",
    "def drop_column(df, column_drop):\n",
    "    \"\"\"\n",
    "    drop the unnecessary column from OLID dataset (subtask a, b, and c)\n",
    "    :type df: csv pandas dataframe \n",
    "    :type column_drop: column (head) pandas dataframe\n",
    "    :return dataframe: pandas dataframe, type csv\n",
    "    \"\"\"\n",
    "    dataframe = df.drop(column_drop, axis=1) \n",
    "    return dataframe\n",
    "\n",
    "def merge_file(df1, df2):\n",
    "    \"\"\"\n",
    "    This function merge the two dataset (OLID and AbuseEval) by the column \"id\"\n",
    "    :type df1 and df2: csv pandas dataframe \n",
    "    :return merge_data: pandas dataframe consist of column sentence from OLID and label from AbuseEval\n",
    "    \n",
    "    \"\"\"\n",
    "    merge_data = pd.merge(df1,df2, on=\"id\")\n",
    "    return merge_data\n",
    "\n",
    "def save_csv(merge_data, name):\n",
    "    \"\"\"\"\n",
    "    save the resulted dataframes to csv\n",
    "    \"\"\"\n",
    "    to_save = merge_data.to_csv(name, index=False) \n",
    "    return to_save "
   ]
  },
  {
   "cell_type": "code",
   "execution_count": null,
   "id": "d867112f-9a32-4b39-8df9-bb248951e3f8",
   "metadata": {
    "tags": []
   },
   "outputs": [],
   "source": [
    "## PREPROCESSED TRAINING DATA (merging sentence from OLID dataset and Label from AbuseEval) ## \n",
    "\n",
    "## OLID DATAFRAME ##\n",
    "\n",
    "#1. get the dataset#\n",
    "file = \"../dataset/master/olid-training-v1.0.tsv\"\n",
    "olid = get_df(file)\n",
    "\n",
    "#2. drop the file \n",
    "df = olid\n",
    "column_drop=['subtask_a', 'subtask_b', 'subtask_c']\n",
    "olid = drop_column(df, column_drop)\n",
    "\n",
    "## ABUSEVAL DATAFRAME ## \n",
    "\n",
    "#1. get the dataset\n",
    "file_abuse = '../dataset/master/abuseval_offenseval_train.tsv'\n",
    "abuseval = get_df(file_abuse)\n",
    "\n",
    "## MERGING ## \n",
    "df1 = olid\n",
    "df2 = abuseval\n",
    "abuseval_train = merge_file(df1, df2)\n",
    "\n",
    "## TO SAVE ##\n",
    "merge_file = abuseval_train\n",
    "location = '../dataset/abuseval_train.csv'\n",
    "save_csv(merge_file, location)"
   ]
  },
  {
   "cell_type": "code",
   "execution_count": 4,
   "id": "34a69f40-8813-4590-808d-fad8b6218e6a",
   "metadata": {
    "tags": []
   },
   "outputs": [
    {
     "data": {
      "text/html": [
       "<div>\n",
       "<style scoped>\n",
       "    .dataframe tbody tr th:only-of-type {\n",
       "        vertical-align: middle;\n",
       "    }\n",
       "\n",
       "    .dataframe tbody tr th {\n",
       "        vertical-align: top;\n",
       "    }\n",
       "\n",
       "    .dataframe thead th {\n",
       "        text-align: right;\n",
       "    }\n",
       "</style>\n",
       "<table border=\"1\" class=\"dataframe\">\n",
       "  <thead>\n",
       "    <tr style=\"text-align: right;\">\n",
       "      <th></th>\n",
       "      <th>id</th>\n",
       "      <th>tweet</th>\n",
       "      <th>abuse</th>\n",
       "    </tr>\n",
       "  </thead>\n",
       "  <tbody>\n",
       "    <tr>\n",
       "      <th>0</th>\n",
       "      <td>86426</td>\n",
       "      <td>@USER She should ask a few native Americans wh...</td>\n",
       "      <td>NOTABU</td>\n",
       "    </tr>\n",
       "    <tr>\n",
       "      <th>1</th>\n",
       "      <td>90194</td>\n",
       "      <td>@USER @USER Go home you’re drunk!!! @USER #MAG...</td>\n",
       "      <td>NOTABU</td>\n",
       "    </tr>\n",
       "    <tr>\n",
       "      <th>2</th>\n",
       "      <td>16820</td>\n",
       "      <td>Amazon is investigating Chinese employees who ...</td>\n",
       "      <td>NOTABU</td>\n",
       "    </tr>\n",
       "    <tr>\n",
       "      <th>3</th>\n",
       "      <td>62688</td>\n",
       "      <td>@USER Someone should'veTaken\" this piece of sh...</td>\n",
       "      <td>NOTABU</td>\n",
       "    </tr>\n",
       "    <tr>\n",
       "      <th>4</th>\n",
       "      <td>43605</td>\n",
       "      <td>@USER @USER Obama wanted liberals &amp;amp; illega...</td>\n",
       "      <td>NOTABU</td>\n",
       "    </tr>\n",
       "  </tbody>\n",
       "</table>\n",
       "</div>"
      ],
      "text/plain": [
       "      id                                              tweet   abuse\n",
       "0  86426  @USER She should ask a few native Americans wh...  NOTABU\n",
       "1  90194  @USER @USER Go home you’re drunk!!! @USER #MAG...  NOTABU\n",
       "2  16820  Amazon is investigating Chinese employees who ...  NOTABU\n",
       "3  62688  @USER Someone should'veTaken\" this piece of sh...  NOTABU\n",
       "4  43605  @USER @USER Obama wanted liberals &amp; illega...  NOTABU"
      ]
     },
     "execution_count": 4,
     "metadata": {},
     "output_type": "execute_result"
    }
   ],
   "source": [
    "## read the train file ##\n",
    "location = '../dataset/abuseval_train.csv'\n",
    "df_merge_train = pd.read_csv(location)\n",
    "df_merge_train.head()"
   ]
  },
  {
   "cell_type": "code",
   "execution_count": 19,
   "id": "75180555-21c3-4462-9cb2-c2dd6eaf2918",
   "metadata": {},
   "outputs": [],
   "source": [
    "## PREPROCESSED TEST DATA (merging sentence from OLID dataset and Label from AbuseEval)## \n",
    "\n",
    "file = \"../dataset/master/testset-levela.tsv\"\n",
    "df = pd.read_csv(file, sep=\"\\t\")\n",
    "\n",
    "file2 = \"../dataset/master/abuseval_offenseval_test.tsv\"\n",
    "df2 = pd.read_csv(file2, sep=\"\\t\")\n",
    "df2.head()\n",
    "\n",
    "merge_data = pd.merge(df,df2, on=\"id\")\n",
    "\n",
    "## save to csv ## \n",
    "merge_data.to_csv('../dataset/abuseval_test.csv', index=False)"
   ]
  },
  {
   "cell_type": "code",
   "execution_count": 5,
   "id": "bdb8b449-50f1-4ed9-86ae-f4307c49635f",
   "metadata": {
    "tags": []
   },
   "outputs": [
    {
     "data": {
      "text/html": [
       "<div>\n",
       "<style scoped>\n",
       "    .dataframe tbody tr th:only-of-type {\n",
       "        vertical-align: middle;\n",
       "    }\n",
       "\n",
       "    .dataframe tbody tr th {\n",
       "        vertical-align: top;\n",
       "    }\n",
       "\n",
       "    .dataframe thead th {\n",
       "        text-align: right;\n",
       "    }\n",
       "</style>\n",
       "<table border=\"1\" class=\"dataframe\">\n",
       "  <thead>\n",
       "    <tr style=\"text-align: right;\">\n",
       "      <th></th>\n",
       "      <th>id</th>\n",
       "      <th>tweet</th>\n",
       "      <th>abuse</th>\n",
       "    </tr>\n",
       "  </thead>\n",
       "  <tbody>\n",
       "    <tr>\n",
       "      <th>0</th>\n",
       "      <td>15923</td>\n",
       "      <td>#WhoIsQ #WheresTheServer #DumpNike #DECLASFISA...</td>\n",
       "      <td>NOTABU</td>\n",
       "    </tr>\n",
       "    <tr>\n",
       "      <th>1</th>\n",
       "      <td>27014</td>\n",
       "      <td>#ConstitutionDay is revered by Conservatives, ...</td>\n",
       "      <td>NOTABU</td>\n",
       "    </tr>\n",
       "    <tr>\n",
       "      <th>2</th>\n",
       "      <td>30530</td>\n",
       "      <td>#FOXNews #NRA #MAGA #POTUS #TRUMP #2ndAmendmen...</td>\n",
       "      <td>NOTABU</td>\n",
       "    </tr>\n",
       "    <tr>\n",
       "      <th>3</th>\n",
       "      <td>13876</td>\n",
       "      <td>#Watching #Boomer getting the news that she is...</td>\n",
       "      <td>NOTABU</td>\n",
       "    </tr>\n",
       "    <tr>\n",
       "      <th>4</th>\n",
       "      <td>60133</td>\n",
       "      <td>#NoPasaran: Unity demo to oppose the far-right...</td>\n",
       "      <td>EXP</td>\n",
       "    </tr>\n",
       "  </tbody>\n",
       "</table>\n",
       "</div>"
      ],
      "text/plain": [
       "      id                                              tweet   abuse\n",
       "0  15923  #WhoIsQ #WheresTheServer #DumpNike #DECLASFISA...  NOTABU\n",
       "1  27014  #ConstitutionDay is revered by Conservatives, ...  NOTABU\n",
       "2  30530  #FOXNews #NRA #MAGA #POTUS #TRUMP #2ndAmendmen...  NOTABU\n",
       "3  13876  #Watching #Boomer getting the news that she is...  NOTABU\n",
       "4  60133  #NoPasaran: Unity demo to oppose the far-right...     EXP"
      ]
     },
     "execution_count": 5,
     "metadata": {},
     "output_type": "execute_result"
    }
   ],
   "source": [
    "## read the test file ##\n",
    "path = '../dataset/abuseval_test.csv'\n",
    "df_merge_test = pd.read_csv(path)\n",
    "df_merge_test.head()"
   ]
  }
 ],
 "metadata": {
  "kernelspec": {
   "display_name": "thesis",
   "language": "python",
   "name": "thesis"
  },
  "language_info": {
   "codemirror_mode": {
    "name": "ipython",
    "version": 3
   },
   "file_extension": ".py",
   "mimetype": "text/x-python",
   "name": "python",
   "nbconvert_exporter": "python",
   "pygments_lexer": "ipython3",
   "version": "3.9.18"
  }
 },
 "nbformat": 4,
 "nbformat_minor": 5
}
